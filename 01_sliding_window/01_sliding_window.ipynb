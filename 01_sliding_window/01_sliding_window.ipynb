{
 "cells": [
  {
   "cell_type": "markdown",
   "source": [
    "# Average of all subarrays - Brute Force"
   ],
   "metadata": {}
  },
  {
   "cell_type": "code",
   "execution_count": 2,
   "source": [
    "def find_averages_of_subarrays(K, arr):\n",
    "  result = []\n",
    "  for i in range(len(arr)-K+1):\n",
    "    # find sum of next 'K' elements\n",
    "    _sum = 0.0\n",
    "    for j in range(i, i+K):\n",
    "      _sum += arr[j]\n",
    "    result.append(_sum/K)  # calculate average\n",
    "\n",
    "  return result\n",
    "\n",
    "\n",
    "def main():\n",
    "  result = find_averages_of_subarrays(5, [1, 3, 2, 6, -1, 4, 1, 8, 2])\n",
    "  print(\"Averages of subarrays of size K: \" + str(result))\n",
    "\n",
    "\n",
    "main()"
   ],
   "outputs": [
    {
     "output_type": "stream",
     "name": "stdout",
     "text": [
      "Averages of subarrays of size K: [2.2, 2.8, 2.4, 3.6, 2.8]\n"
     ]
    }
   ],
   "metadata": {}
  },
  {
   "cell_type": "code",
   "execution_count": null,
   "source": [],
   "outputs": [],
   "metadata": {}
  }
 ],
 "metadata": {
  "orig_nbformat": 4,
  "language_info": {
   "name": "python",
   "version": "3.7.3",
   "mimetype": "text/x-python",
   "codemirror_mode": {
    "name": "ipython",
    "version": 3
   },
   "pygments_lexer": "ipython3",
   "nbconvert_exporter": "python",
   "file_extension": ".py"
  },
  "kernelspec": {
   "name": "python3",
   "display_name": "Python 3.7.3 64-bit ('.venv': venv)"
  },
  "interpreter": {
   "hash": "e32152c53c92b0cd4cf830002bc67797e22c160092cb80cd519b59d5d437fee2"
  }
 },
 "nbformat": 4,
 "nbformat_minor": 2
}